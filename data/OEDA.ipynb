{
 "cells": [
  {
   "cell_type": "code",
   "execution_count": 1,
   "id": "554781ee",
   "metadata": {},
   "outputs": [],
   "source": [
    "import pandas as pd\n",
    "import numpy as np"
   ]
  },
  {
   "cell_type": "code",
   "execution_count": 2,
   "id": "6641ca86",
   "metadata": {},
   "outputs": [],
   "source": [
    "kg = pd.read_csv(\"kg.csv\", low_memory=False)"
   ]
  },
  {
   "cell_type": "code",
   "execution_count": 3,
   "id": "27e1c575",
   "metadata": {},
   "outputs": [
    {
     "data": {
      "text/html": [
       "<div>\n",
       "<style scoped>\n",
       "    .dataframe tbody tr th:only-of-type {\n",
       "        vertical-align: middle;\n",
       "    }\n",
       "\n",
       "    .dataframe tbody tr th {\n",
       "        vertical-align: top;\n",
       "    }\n",
       "\n",
       "    .dataframe thead th {\n",
       "        text-align: right;\n",
       "    }\n",
       "</style>\n",
       "<table border=\"1\" class=\"dataframe\">\n",
       "  <thead>\n",
       "    <tr style=\"text-align: right;\">\n",
       "      <th></th>\n",
       "      <th>relation</th>\n",
       "      <th>display_relation</th>\n",
       "      <th>x_id</th>\n",
       "      <th>x_type</th>\n",
       "      <th>x_name</th>\n",
       "      <th>x_source</th>\n",
       "      <th>y_id</th>\n",
       "      <th>y_type</th>\n",
       "      <th>y_name</th>\n",
       "      <th>y_source</th>\n",
       "    </tr>\n",
       "  </thead>\n",
       "  <tbody>\n",
       "    <tr>\n",
       "      <th>0</th>\n",
       "      <td>protein_protein</td>\n",
       "      <td>ppi</td>\n",
       "      <td>9796</td>\n",
       "      <td>gene/protein</td>\n",
       "      <td>PHYHIP</td>\n",
       "      <td>NCBI</td>\n",
       "      <td>56992</td>\n",
       "      <td>gene/protein</td>\n",
       "      <td>KIF15</td>\n",
       "      <td>NCBI</td>\n",
       "    </tr>\n",
       "    <tr>\n",
       "      <th>1</th>\n",
       "      <td>protein_protein</td>\n",
       "      <td>ppi</td>\n",
       "      <td>7918</td>\n",
       "      <td>gene/protein</td>\n",
       "      <td>GPANK1</td>\n",
       "      <td>NCBI</td>\n",
       "      <td>9240</td>\n",
       "      <td>gene/protein</td>\n",
       "      <td>PNMA1</td>\n",
       "      <td>NCBI</td>\n",
       "    </tr>\n",
       "    <tr>\n",
       "      <th>2</th>\n",
       "      <td>protein_protein</td>\n",
       "      <td>ppi</td>\n",
       "      <td>8233</td>\n",
       "      <td>gene/protein</td>\n",
       "      <td>ZRSR2</td>\n",
       "      <td>NCBI</td>\n",
       "      <td>23548</td>\n",
       "      <td>gene/protein</td>\n",
       "      <td>TTC33</td>\n",
       "      <td>NCBI</td>\n",
       "    </tr>\n",
       "    <tr>\n",
       "      <th>3</th>\n",
       "      <td>protein_protein</td>\n",
       "      <td>ppi</td>\n",
       "      <td>4899</td>\n",
       "      <td>gene/protein</td>\n",
       "      <td>NRF1</td>\n",
       "      <td>NCBI</td>\n",
       "      <td>11253</td>\n",
       "      <td>gene/protein</td>\n",
       "      <td>MAN1B1</td>\n",
       "      <td>NCBI</td>\n",
       "    </tr>\n",
       "    <tr>\n",
       "      <th>4</th>\n",
       "      <td>protein_protein</td>\n",
       "      <td>ppi</td>\n",
       "      <td>5297</td>\n",
       "      <td>gene/protein</td>\n",
       "      <td>PI4KA</td>\n",
       "      <td>NCBI</td>\n",
       "      <td>8601</td>\n",
       "      <td>gene/protein</td>\n",
       "      <td>RGS20</td>\n",
       "      <td>NCBI</td>\n",
       "    </tr>\n",
       "    <tr>\n",
       "      <th>...</th>\n",
       "      <td>...</td>\n",
       "      <td>...</td>\n",
       "      <td>...</td>\n",
       "      <td>...</td>\n",
       "      <td>...</td>\n",
       "      <td>...</td>\n",
       "      <td>...</td>\n",
       "      <td>...</td>\n",
       "      <td>...</td>\n",
       "      <td>...</td>\n",
       "    </tr>\n",
       "    <tr>\n",
       "      <th>8100493</th>\n",
       "      <td>anatomy_protein_absent</td>\n",
       "      <td>expression absent</td>\n",
       "      <td>4720</td>\n",
       "      <td>anatomy</td>\n",
       "      <td>cerebellar vermis</td>\n",
       "      <td>UBERON</td>\n",
       "      <td>140</td>\n",
       "      <td>gene/protein</td>\n",
       "      <td>ADORA3</td>\n",
       "      <td>NCBI</td>\n",
       "    </tr>\n",
       "    <tr>\n",
       "      <th>8100494</th>\n",
       "      <td>anatomy_protein_absent</td>\n",
       "      <td>expression absent</td>\n",
       "      <td>1377</td>\n",
       "      <td>anatomy</td>\n",
       "      <td>quadriceps femoris</td>\n",
       "      <td>UBERON</td>\n",
       "      <td>105378952</td>\n",
       "      <td>gene/protein</td>\n",
       "      <td>KLF18</td>\n",
       "      <td>NCBI</td>\n",
       "    </tr>\n",
       "    <tr>\n",
       "      <th>8100495</th>\n",
       "      <td>anatomy_protein_absent</td>\n",
       "      <td>expression absent</td>\n",
       "      <td>1379</td>\n",
       "      <td>anatomy</td>\n",
       "      <td>vastus lateralis</td>\n",
       "      <td>UBERON</td>\n",
       "      <td>105378952</td>\n",
       "      <td>gene/protein</td>\n",
       "      <td>KLF18</td>\n",
       "      <td>NCBI</td>\n",
       "    </tr>\n",
       "    <tr>\n",
       "      <th>8100496</th>\n",
       "      <td>anatomy_protein_absent</td>\n",
       "      <td>expression absent</td>\n",
       "      <td>2084</td>\n",
       "      <td>anatomy</td>\n",
       "      <td>heart left ventricle</td>\n",
       "      <td>UBERON</td>\n",
       "      <td>105378952</td>\n",
       "      <td>gene/protein</td>\n",
       "      <td>KLF18</td>\n",
       "      <td>NCBI</td>\n",
       "    </tr>\n",
       "    <tr>\n",
       "      <th>8100497</th>\n",
       "      <td>anatomy_protein_absent</td>\n",
       "      <td>expression absent</td>\n",
       "      <td>5384</td>\n",
       "      <td>anatomy</td>\n",
       "      <td>nasal cavity epithelium</td>\n",
       "      <td>UBERON</td>\n",
       "      <td>105378952</td>\n",
       "      <td>gene/protein</td>\n",
       "      <td>KLF18</td>\n",
       "      <td>NCBI</td>\n",
       "    </tr>\n",
       "  </tbody>\n",
       "</table>\n",
       "<p>8100498 rows × 10 columns</p>\n",
       "</div>"
      ],
      "text/plain": [
       "                       relation   display_relation  x_id        x_type  \\\n",
       "0               protein_protein                ppi  9796  gene/protein   \n",
       "1               protein_protein                ppi  7918  gene/protein   \n",
       "2               protein_protein                ppi  8233  gene/protein   \n",
       "3               protein_protein                ppi  4899  gene/protein   \n",
       "4               protein_protein                ppi  5297  gene/protein   \n",
       "...                         ...                ...   ...           ...   \n",
       "8100493  anatomy_protein_absent  expression absent  4720       anatomy   \n",
       "8100494  anatomy_protein_absent  expression absent  1377       anatomy   \n",
       "8100495  anatomy_protein_absent  expression absent  1379       anatomy   \n",
       "8100496  anatomy_protein_absent  expression absent  2084       anatomy   \n",
       "8100497  anatomy_protein_absent  expression absent  5384       anatomy   \n",
       "\n",
       "                          x_name x_source       y_id        y_type  y_name  \\\n",
       "0                         PHYHIP     NCBI      56992  gene/protein   KIF15   \n",
       "1                         GPANK1     NCBI       9240  gene/protein   PNMA1   \n",
       "2                          ZRSR2     NCBI      23548  gene/protein   TTC33   \n",
       "3                           NRF1     NCBI      11253  gene/protein  MAN1B1   \n",
       "4                          PI4KA     NCBI       8601  gene/protein   RGS20   \n",
       "...                          ...      ...        ...           ...     ...   \n",
       "8100493        cerebellar vermis   UBERON        140  gene/protein  ADORA3   \n",
       "8100494       quadriceps femoris   UBERON  105378952  gene/protein   KLF18   \n",
       "8100495         vastus lateralis   UBERON  105378952  gene/protein   KLF18   \n",
       "8100496     heart left ventricle   UBERON  105378952  gene/protein   KLF18   \n",
       "8100497  nasal cavity epithelium   UBERON  105378952  gene/protein   KLF18   \n",
       "\n",
       "        y_source  \n",
       "0           NCBI  \n",
       "1           NCBI  \n",
       "2           NCBI  \n",
       "3           NCBI  \n",
       "4           NCBI  \n",
       "...          ...  \n",
       "8100493     NCBI  \n",
       "8100494     NCBI  \n",
       "8100495     NCBI  \n",
       "8100496     NCBI  \n",
       "8100497     NCBI  \n",
       "\n",
       "[8100498 rows x 10 columns]"
      ]
     },
     "execution_count": 3,
     "metadata": {},
     "output_type": "execute_result"
    }
   ],
   "source": [
    "kg"
   ]
  },
  {
   "cell_type": "code",
   "execution_count": 4,
   "id": "9c9dd768",
   "metadata": {},
   "outputs": [
    {
     "data": {
      "text/plain": [
       "17080"
      ]
     },
     "execution_count": 4,
     "metadata": {},
     "output_type": "execute_result"
    }
   ],
   "source": [
    "diseases = pd.concat([kg[kg.x_type == 'disease'].x_id.astype(str), kg[kg.y_type == 'disease'].y_id.astype(str)]).unique()\n",
    "# n Diseases\n",
    "len(diseases)"
   ]
  },
  {
   "cell_type": "code",
   "execution_count": 5,
   "id": "40005eb9",
   "metadata": {},
   "outputs": [
    {
     "data": {
      "text/plain": [
       "2054"
      ]
     },
     "execution_count": 5,
     "metadata": {},
     "output_type": "execute_result"
    }
   ],
   "source": [
    "ddkg = pd.concat([kg[(kg.x_type == 'disease') & (kg.y_type == 'drug')].x_id.astype(str),\n",
    "                  kg[(kg.y_type == 'disease') & (kg.x_type == 'drug')].y_id.astype(str)]).unique()\n",
    "# n Diseases with drug labels\n",
    "len(ddkg)"
   ]
  },
  {
   "cell_type": "code",
   "execution_count": 6,
   "id": "a5cef594",
   "metadata": {},
   "outputs": [
    {
     "data": {
      "text/plain": [
       "15026"
      ]
     },
     "execution_count": 6,
     "metadata": {},
     "output_type": "execute_result"
    }
   ],
   "source": [
    "nddkg = [d for d in diseases if d not in ddkg]\n",
    "# n Diseases without drug labels\n",
    "len(nddkg)"
   ]
  },
  {
   "cell_type": "code",
   "execution_count": 7,
   "id": "0e1936f1",
   "metadata": {},
   "outputs": [],
   "source": [
    "# kg_giant.csv:\n",
    "# n Diseases:                     \n",
    "# n Diseases with drug labels:    1654\n",
    "# n Diseases without drug labels: \n"
   ]
  },
  {
   "cell_type": "code",
   "execution_count": null,
   "id": "dac5e197",
   "metadata": {},
   "outputs": [],
   "source": []
  }
 ],
 "metadata": {
  "kernelspec": {
   "display_name": "primeKG",
   "language": "python",
   "name": "primekg"
  },
  "language_info": {
   "codemirror_mode": {
    "name": "ipython",
    "version": 3
   },
   "file_extension": ".py",
   "mimetype": "text/x-python",
   "name": "python",
   "nbconvert_exporter": "python",
   "pygments_lexer": "ipython3",
   "version": "3.9.5"
  }
 },
 "nbformat": 4,
 "nbformat_minor": 5
}
